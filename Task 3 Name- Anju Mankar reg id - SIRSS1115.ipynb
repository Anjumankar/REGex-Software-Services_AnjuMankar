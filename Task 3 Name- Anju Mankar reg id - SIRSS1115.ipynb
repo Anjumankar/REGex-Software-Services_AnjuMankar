{
 "cells": [
  {
   "cell_type": "markdown",
   "id": "cd9303f8",
   "metadata": {},
   "source": [
    "##  Write a function to return nth term of Fibonacci sequence."
   ]
  },
  {
   "cell_type": "code",
   "execution_count": 1,
   "id": "1bea03e4",
   "metadata": {},
   "outputs": [
    {
     "name": "stdout",
     "output_type": "stream",
     "text": [
      "[1, 1, 2, 3, 5, 8, 13, 21, 34]\n"
     ]
    }
   ],
   "source": [
    "def f(n):\n",
    "    m=[1,1]\n",
    "    a=1\n",
    "    b=1\n",
    "    for i in range(3,n+1):\n",
    "        m.append(a+b)\n",
    "        a,b=b+a,a\n",
    "    return m\n",
    "print(f(9))"
   ]
  },
  {
   "cell_type": "code",
   "execution_count": 2,
   "id": "6589c20f",
   "metadata": {},
   "outputs": [
    {
     "name": "stdout",
     "output_type": "stream",
     "text": [
      "34\n"
     ]
    }
   ],
   "source": [
    "def Fibonacci(n):\n",
    "    if n<0:\n",
    "        print(\"Fibbonacci can't be computed\")\n",
    "    elif n==1:\n",
    "        return 0\n",
    "    elif n==2:\n",
    "        return 1\n",
    "    else:\n",
    "        return Fibonacci(n-1)+Fibonacci(n-2)\n",
    "n=10\n",
    "print(Fibonacci(n))"
   ]
  },
  {
   "cell_type": "markdown",
   "id": "84ddd0fc",
   "metadata": {},
   "source": [
    "## Write a function to find out GCD of two numbers using EUCLID'S algorithm."
   ]
  },
  {
   "cell_type": "code",
   "execution_count": 3,
   "id": "62742f6b",
   "metadata": {},
   "outputs": [
    {
     "name": "stdout",
     "output_type": "stream",
     "text": [
      "gcd( 12 , 16 ) =  4\n",
      "gcd( 35 , 10 ) =  5\n",
      "gcd( 32 , 48 ) =  16\n"
     ]
    }
   ],
   "source": [
    "def gcd(a, b):\n",
    "    if a == 0 :\n",
    "        return b\n",
    "\n",
    "    return gcd(b%a, a)\n",
    "\n",
    "a = 12\n",
    "b = 16\n",
    "print(\"gcd(\", a , \",\" , b, \") = \", gcd(a, b))\n",
    "\n",
    "a = 35\n",
    "b = 10\n",
    "print(\"gcd(\", a , \",\" , b, \") = \", gcd(a, b))\n",
    "\n",
    "a = 32\n",
    "b = 48\n",
    "print(\"gcd(\", a , \",\" , b, \") = \", gcd(a, b))"
   ]
  },
  {
   "cell_type": "markdown",
   "id": "86920321",
   "metadata": {},
   "source": [
    "## Write a function to find LCM of two number in most optimizers way."
   ]
  },
  {
   "cell_type": "code",
   "execution_count": 4,
   "id": "d22a38e6",
   "metadata": {},
   "outputs": [
    {
     "name": "stdout",
     "output_type": "stream",
     "text": [
      "The L.C.M. is 192\n"
     ]
    }
   ],
   "source": [
    " \n",
    "def compute_gcd(x, y):\n",
    "\n",
    "    while(y):\n",
    "        x, y = y, x % y\n",
    "    return x\n",
    "\n",
    "\n",
    "def compute_lcm(x, y):\n",
    "    lcm = (x*y)//compute_gcd(x,y)\n",
    "    return lcm\n",
    "\n",
    "num1 = 64\n",
    "num2 = 24 \n",
    "\n",
    "print(\"The L.C.M. is\", compute_lcm(num1, num2))\n"
   ]
  },
  {
   "cell_type": "code",
   "execution_count": 8,
   "id": "1e85e6b4",
   "metadata": {},
   "outputs": [],
   "source": [
    "def lcm(a,b):\n",
    "    if(a>b):\n",
    "        g=a\n",
    "    else:\n",
    "        g=b\n",
    "        while(True):\n",
    "            if(g%a==0 and g%b==0):\n",
    "                return g\n",
    "            g=g+1"
   ]
  },
  {
   "cell_type": "code",
   "execution_count": 10,
   "id": "d3b51903",
   "metadata": {},
   "outputs": [
    {
     "data": {
      "text/plain": [
       "84"
      ]
     },
     "execution_count": 10,
     "metadata": {},
     "output_type": "execute_result"
    }
   ],
   "source": [
    "lcm(12,14)"
   ]
  },
  {
   "cell_type": "code",
   "execution_count": null,
   "id": "d31915bf",
   "metadata": {},
   "outputs": [],
   "source": []
  },
  {
   "cell_type": "code",
   "execution_count": null,
   "id": "93d4589e",
   "metadata": {},
   "outputs": [],
   "source": []
  }
 ],
 "metadata": {
  "kernelspec": {
   "display_name": "Python 3",
   "language": "python",
   "name": "python3"
  },
  "language_info": {
   "codemirror_mode": {
    "name": "ipython",
    "version": 3
   },
   "file_extension": ".py",
   "mimetype": "text/x-python",
   "name": "python",
   "nbconvert_exporter": "python",
   "pygments_lexer": "ipython3",
   "version": "3.8.8"
  }
 },
 "nbformat": 4,
 "nbformat_minor": 5
}
